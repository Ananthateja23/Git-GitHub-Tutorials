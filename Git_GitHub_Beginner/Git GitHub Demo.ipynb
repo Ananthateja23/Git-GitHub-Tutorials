{
 "cells": [
  {
   "cell_type": "markdown",
   "id": "ef69310f-40a1-4ab4-9ab5-154c31e588d5",
   "metadata": {},
   "source": [
    "### ***Git:***\n",
    "\n",
    "#### - Git is a Version Control System. It is popular, free & open source, fast & scalable\n",
    "#### -  Version Control System is a tool that helps to track changes in code\n",
    "\n",
    "### ***why one should use Git?***\n",
    "#### Primary usage of Git :\n",
    "#### - track the history of changes in code\n",
    "#### - collaboration with team members\n",
    "\n",
    "### ***GitHub:***\n",
    "#### - Website that allows developers to store and manage their code using Git\n",
    "\n",
    "#### - Before learning git, One should create a GitHub profile. To create a GitHub profile, we must have an email id."
   ]
  },
  {
   "cell_type": "markdown",
   "id": "d2b9cb5d-1f8b-4321-acf2-93ace4c503c4",
   "metadata": {},
   "source": [
    "### ***Setting Up Git:***\n",
    "\n",
    "#### - Visual Studio Code\n",
    "#### - Windows(Git Bash)\n",
    "#### - Mac(Terminal)\n",
    "\n",
    "#### - command to check git version: `git --version`\n",
    "### ***Note***\n",
    "#### - Follow jupyter notebooks tutorials to setup the Git, GitHub, VisualStudioCode"
   ]
  },
  {
   "cell_type": "markdown",
   "id": "fac6aaa4-03ab-40c3-98e0-812c61eeb929",
   "metadata": {},
   "source": [
    "----"
   ]
  },
  {
   "cell_type": "markdown",
   "id": "7962bcfa-654b-4297-9605-7210411ad439",
   "metadata": {},
   "source": [
    "### ***Configuration***\n",
    "#### - We have to tell to Git about Github account that where we store and manage our code\n",
    "#### - So first we do configuration and later start working on project\n",
    "\n",
    "```\n",
    "Commands:\n",
    "\n",
    "    ==> git config --global user.name \"User Name\"\n",
    "    ==> git config --global user.email \"someone@email.com\"\n",
    "    ==> git config --list\n",
    "\n",
    "```"
   ]
  },
  {
   "cell_type": "markdown",
   "id": "3ad9b63a-f439-4099-8210-6fbd7ff5c7ac",
   "metadata": {},
   "source": [
    "### ***Instructions to Configure Git***\n",
    "#### - open gitbash and run above commands to configure git\n",
    "![](GitGitHubDemoImages/BasicPush/Image01.png)"
   ]
  },
  {
   "cell_type": "markdown",
   "id": "99139633-ad32-41d3-bdc2-ad5586482e88",
   "metadata": {},
   "source": [
    "----"
   ]
  },
  {
   "cell_type": "markdown",
   "id": "ae4ae71c-a5ea-48d0-89c2-d29ad29a9259",
   "metadata": {},
   "source": [
    "### ***Instructions to Clone repo on our local machine***\n",
    "#### - one of the best practices to work with git was using along with working project \n",
    "#### - open visualstudiocode to start working on project\n",
    "#### - open a folder named \"GitDemo\" on our Vs code\n",
    "#### - open command prompt and run the commands\n",
    "```\n",
    "    command: git --version\n",
    "    command: clear\n",
    "```\n",
    "![](GitGitHubDemoImages/BasicPush/Image02.png)"
   ]
  },
  {
   "cell_type": "markdown",
   "id": "216e1f12-8bdd-4fbe-97a8-ab22e01c9598",
   "metadata": {},
   "source": [
    "#### - go to GitHub and open the required repository to clone\n",
    "#### - click on the Code button. It shows the options to clone the repository\n",
    "#### - Select the HTTPS and copy the url of repository\n",
    "\n",
    "![](GitGitHubDemoImages/BasicPush/Image03.png)\n",
    "![](GitGitHubDemoImages/BasicPush/Image04.png)"
   ]
  },
  {
   "cell_type": "markdown",
   "id": "a7bc1d81-d402-43ad-8046-85e2f426acd7",
   "metadata": {},
   "source": [
    "----"
   ]
  },
  {
   "cell_type": "markdown",
   "id": "28f6479e-7642-4f0b-9a12-4094627ab42c",
   "metadata": {},
   "source": [
    "### ***Clone:***\n",
    "\n",
    "#### - Cloning a repository on our local machine\n",
    "#### - there are two places with us\n",
    "#### - local[laptop/pc] : where files/folders present on our laptop\n",
    "#### - remote[GitHub]   : where files/folders present on GitHub\n",
    "```\n",
    "    command: git clone <-somelink->\n",
    "```\n",
    "![](GitGitHubDemoImages/BasicPush/Image05.png)"
   ]
  },
  {
   "cell_type": "markdown",
   "id": "24134e27-233d-4ce9-9962-bc7e0ee54e4d",
   "metadata": {},
   "source": [
    "#### - there are two types of files present inside folders\n",
    "#### - visible files : README.md\n",
    "#### - hidden files  : ., .., .git\n",
    "#### - we can see the files inside folder `command: ls`\n",
    "#### - to see all the files(including hidden files) in folder `command: ls -a`\n",
    "![](GitGitHubDemoImages/BasicPush/Image06.png)\n",
    "![](GitGitHubDemoImages/BasicPush/Image07.png)"
   ]
  },
  {
   "cell_type": "markdown",
   "id": "91ababee-422a-4b6b-934c-b8a5b055eae4",
   "metadata": {},
   "source": [
    "----"
   ]
  },
  {
   "cell_type": "markdown",
   "id": "804b59e9-ac4f-4b21-9143-da47fdd48cd8",
   "metadata": {},
   "source": [
    "### ***status:***\n",
    "\n",
    "#### - It displays the state of the code\n",
    "```\n",
    "command: git status\n",
    "```\n",
    "\n",
    "### ***status code:***\n",
    "\n",
    "#### `(1) Untracked  :` new files that git doesn't yet track\n",
    "#### `(2) modified   :` changed\n",
    "#### `(3) staged     :` file is ready to be committed\n",
    "#### `(4) unmodified :` unchanged \n",
    "![](GitGitHubDemoImages/BasicPush/Image08.png)\n",
    "![](GitGitHubDemoImages/BasicPush/Image09.png)\n",
    "![](GitGitHubDemoImages/BasicPush/Image10.png)\n",
    "![](GitGitHubDemoImages/BasicPush/Image11.png)"
   ]
  },
  {
   "cell_type": "markdown",
   "id": "1208cc57-b3ff-4f13-87f9-54f2de6b02b4",
   "metadata": {},
   "source": [
    "----"
   ]
  },
  {
   "cell_type": "markdown",
   "id": "85bb3af7-d0c1-46a3-9085-4d66668b4dfb",
   "metadata": {},
   "source": [
    "### ***Add & Commit:***\n",
    "\n",
    "### ***Add:*** \n",
    "#### - It adds new or changed files in your working directory to the Git staging area\n",
    "```\n",
    "command: \n",
    "    \n",
    "    git add <-file name->\n",
    "```\n",
    "![](GitGitHubDemoImages/BasicPush/Image12.png)\n",
    "![](GitGitHubDemoImages/BasicPush/Image13.png)"
   ]
  },
  {
   "cell_type": "markdown",
   "id": "d6e5ce38-6a71-4ed6-b719-fbc30fbe413e",
   "metadata": {},
   "source": [
    "### ***commit:***\n",
    "#### - It is the record of change\n",
    "```\n",
    "command: \n",
    "\n",
    "    git commit -m \"some message\"\n",
    "```\n",
    "![](GitGitHubDemoImages/BasicPush/Image14.png)"
   ]
  },
  {
   "cell_type": "markdown",
   "id": "cc290785-0b7f-4df7-aa09-c8845583e312",
   "metadata": {},
   "source": [
    "----"
   ]
  },
  {
   "cell_type": "markdown",
   "id": "ef0bae22-1e4e-4ec4-bbdc-642ae3da0186",
   "metadata": {},
   "source": [
    "### ***Push Command:***\n",
    "### ***push:***\n",
    "#### - Upload local repo content to remote repo\n",
    "```\n",
    "command: \n",
    "    \n",
    "    git push origin main\n",
    "\n",
    "    ==> origin : we given name of cloned repository\n",
    "    ==> main   : Branch name of cloned repository\n",
    "```\n",
    "![](GitGitHubDemoImages/BasicPush/Image15.png)\n",
    "#### - The above error will occur if there is any configuration issues or Authorization issues\n",
    "#### - To avoid errors make sure to configure Git properly \n",
    "![](GitGitHubDemoImages/BasicPush/Image16.png)\n",
    "![](GitGitHubDemoImages/BasicPush/Image17.png)\n",
    "![](GitGitHubDemoImages/BasicPush/Image18.png)\n",
    "![](GitGitHubDemoImages/BasicPush/Image19.png)\n",
    "![](GitGitHubDemoImages/BasicPush/Image20.png)\n",
    "![](GitGitHubDemoImages/BasicPush/Image21.png)"
   ]
  },
  {
   "cell_type": "markdown",
   "id": "3dd8d8ef-91f3-4798-a4b9-211e723a2398",
   "metadata": {},
   "source": [
    "----"
   ]
  },
  {
   "cell_type": "markdown",
   "id": "2e8f548f-5be0-4e12-9a9d-5ace50fa35df",
   "metadata": {},
   "source": [
    "### ***Init Command:***\n",
    "\n",
    "### ***init:***\n",
    "#### - It is used to create a new git repo\n",
    "```\n",
    "    ==> git init\n",
    "```\n",
    "![](GitGitHubDemoImages/InitPush/Image01.png)\n",
    "![](GitGitHubDemoImages/InitPush/Image02.png)\n",
    "![](GitGitHubDemoImages/InitPush/Image03.png)\n",
    "![](GitGitHubDemoImages/InitPush/Image04.png)"
   ]
  },
  {
   "cell_type": "markdown",
   "id": "70c82b04-829d-4413-b138-9f6ce7a8da4c",
   "metadata": {},
   "source": [
    "```\n",
    "    ==> git remote add origin <-link->\n",
    "```\n",
    "![](GitGitHubDemoImages/InitPush/Image05.png)\n",
    "![](GitGitHubDemoImages/InitPush/Image06.png)"
   ]
  },
  {
   "cell_type": "markdown",
   "id": "be7478c5-31c9-4797-a2c6-93f1ba8867f5",
   "metadata": {},
   "source": [
    "```\n",
    "    ==> git remote -v (to verify remote)\n",
    "```\n",
    "![](GitGitHubDemoImages/InitPush/Image07.png)"
   ]
  },
  {
   "cell_type": "markdown",
   "id": "35eb8800-954e-48a4-860c-5133b1178706",
   "metadata": {},
   "source": [
    "```\n",
    "    ==> git branch (to check branch)\n",
    "    ==> git branch -M <-branch name-> (to rename branch)\n",
    "    ==> git push -u origin main\n",
    "    \n",
    "    Here, -u means set upstream. suppose we need to work on same project for longer duration.\n",
    "    then we use above command and so that we can simply say \"git push\" from next time onwards to push code into github\n",
    "```\n",
    "![](GitGitHubDemoImages/InitPush/Image08.png)\n",
    "![](GitGitHubDemoImages/InitPush/Image09.png)\n",
    "![](GitGitHubDemoImages/InitPush/Image10.png)\n",
    "![](GitGitHubDemoImages/InitPush/Image11.png)\n",
    "![](GitGitHubDemoImages/InitPush/Image12.png)\n",
    "![](GitGitHubDemoImages/InitPush/Image13.png)\n",
    "![](GitGitHubDemoImages/InitPush/Image14.png)"
   ]
  },
  {
   "cell_type": "markdown",
   "id": "9371cdac-c3a6-4349-b0b1-1569f62a4b48",
   "metadata": {},
   "source": [
    "----"
   ]
  },
  {
   "cell_type": "markdown",
   "id": "ed238155-b564-41ce-ab0d-f8218a6490bb",
   "metadata": {},
   "source": [
    "### ***WorkFlow of Local Git:***\n",
    "\n",
    "#### (1) GitHub repo\n",
    "#### (2) Clone\n",
    "#### (3) changes\n",
    "#### (4) add\n",
    "#### (5) commit\n",
    "#### (6) push"
   ]
  },
  {
   "cell_type": "markdown",
   "id": "0008d7a7-dc30-4757-b8a1-49aebbbfbc12",
   "metadata": {},
   "source": [
    "----"
   ]
  },
  {
   "cell_type": "markdown",
   "id": "ed9836c5-9b56-49a9-9c1a-9836d834ce81",
   "metadata": {},
   "source": [
    "### ***Branch Commands:***\n",
    "```\n",
    "    ==> git branch (to check branch)\n",
    "    ==> git checkout -b <-new branch name-> (to create new branch)\n",
    "```\n",
    "![](GitGitHubDemoImages/BranchImages/Image01.png)"
   ]
  },
  {
   "cell_type": "markdown",
   "id": "e36e798a-ce9a-491d-bf09-a2eef51dddc0",
   "metadata": {},
   "source": [
    "```\n",
    "    ==> git checkout <-branch name-> (to navigate)\n",
    "    ==> git branch -M <-branch name-> (to rename branch)\n",
    "```\n",
    "![](GitGitHubDemoImages/BranchImages/Image02.png)\n",
    "![](GitGitHubDemoImages/BranchImages/Image03.png)"
   ]
  },
  {
   "cell_type": "markdown",
   "id": "23a65e58-8840-4475-b49b-3d1a2a950806",
   "metadata": {},
   "source": [
    "```\n",
    "    ==> git branch -d <-branch name->\n",
    "```\n",
    "![](GitGitHubDemoImages/BranchImages/Image04.png)\n",
    "![](GitGitHubDemoImages/BranchImages/Image05.png)\n",
    "![](GitGitHubDemoImages/BranchImages/Image06.png)\n",
    "![](GitGitHubDemoImages/BranchImages/Image07.png)\n",
    "![](GitGitHubDemoImages/BranchImages/Image08.png)\n",
    "![](GitGitHubDemoImages/BranchImages/Image09.png)\n",
    "![](GitGitHubDemoImages/BranchImages/Image10.png)\n",
    "![](GitGitHubDemoImages/BranchImages/Image11.png)"
   ]
  },
  {
   "cell_type": "markdown",
   "id": "d2e66e30-abae-46be-a739-9131c9dd7e51",
   "metadata": {},
   "source": [
    "----"
   ]
  },
  {
   "cell_type": "markdown",
   "id": "d9e64344-7668-40f4-89a1-ad9d8a1e823a",
   "metadata": {},
   "source": [
    "### ***Merging Code:***\n",
    "\n",
    "### ***way1:***\n",
    "```\n",
    "    ==> git diff <-branch name-> (to compare commits, branches, files & more)\n",
    "    ==> git merge <-branch name-> (to merge 2 branches)\n",
    "```\n",
    "### ***way2:***\n",
    "#### - Create a PR(Pull Request)\n",
    "\n",
    "### ***Pull Request:***\n",
    "#### - It lets you tell others about changes you've pushed to a branch in a repository on GitHub"
   ]
  },
  {
   "cell_type": "markdown",
   "id": "b58223a1-04c0-43a8-8640-ae73dc9b364a",
   "metadata": {},
   "source": [
    "![](GitGitHubDemoImages/MergeImages/Image01.png)\n",
    "![](GitGitHubDemoImages/MergeImages/Image02.png)\n",
    "![](GitGitHubDemoImages/MergeImages/Image03.png)\n",
    "![](GitGitHubDemoImages/MergeImages/Image04.png)\n",
    "![](GitGitHubDemoImages/MergeImages/Image05.png)\n",
    "![](GitGitHubDemoImages/MergeImages/Image06.png)\n",
    "![](GitGitHubDemoImages/MergeImages/Image07.png)\n",
    "![](GitGitHubDemoImages/MergeImages/Image08.png)\n",
    "![](GitGitHubDemoImages/MergeImages/Image09.png)\n",
    "![](GitGitHubDemoImages/MergeImages/Image10.png)"
   ]
  },
  {
   "cell_type": "markdown",
   "id": "72c6800a-71e4-43bd-87e9-ad33ea4c972d",
   "metadata": {},
   "source": [
    "----"
   ]
  },
  {
   "cell_type": "markdown",
   "id": "32388353-8c00-4dad-9860-a12303ac7e55",
   "metadata": {},
   "source": [
    "### ***Pull command:***\n",
    "#### - used to fetch and download content from a remote repo and immediately update the local repo to match that content\n",
    "```\n",
    "    command: \n",
    "        \n",
    "        git pull origin main\n",
    "```\n",
    "![](GitGitHubDemoImages/PullImages/Image01.png)\n",
    "![](GitGitHubDemoImages/PullImages/Image02.png)"
   ]
  },
  {
   "cell_type": "markdown",
   "id": "b8da0f41-6964-4d4f-920b-375f138f735d",
   "metadata": {},
   "source": [
    "----"
   ]
  },
  {
   "cell_type": "markdown",
   "id": "21fa44ac-fb11-46e8-9ca3-de79f09b22f0",
   "metadata": {},
   "source": [
    "### ***Resolving merge conflicts:***\n",
    "#### - An event that takes place when Git is unable to automatically resolve differences in code between two commits"
   ]
  },
  {
   "cell_type": "markdown",
   "id": "b562654f-9582-416c-b5fe-e6a54b319f27",
   "metadata": {},
   "source": [
    "![](GitGitHubDemoImages/MergeConflictsImages/Image01.png)\n",
    "![](GitGitHubDemoImages/MergeConflictsImages/Image02.png)\n",
    "![](GitGitHubDemoImages/MergeConflictsImages/Image03.png)\n",
    "![](GitGitHubDemoImages/MergeConflictsImages/Image04.png)\n",
    "![](GitGitHubDemoImages/MergeConflictsImages/Image05.png)\n",
    "![](GitGitHubDemoImages/MergeConflictsImages/Image06.png)\n",
    "![](GitGitHubDemoImages/MergeConflictsImages/Image07.png)\n",
    "![](GitGitHubDemoImages/MergeConflictsImages/Image08.png)\n",
    "![](GitGitHubDemoImages/MergeConflictsImages/Image09.png)\n",
    "![](GitGitHubDemoImages/MergeConflictsImages/Image10.png)"
   ]
  },
  {
   "cell_type": "markdown",
   "id": "f8743e19-14b2-4cab-a5e1-a3670e849d8c",
   "metadata": {},
   "source": [
    "----"
   ]
  },
  {
   "cell_type": "markdown",
   "id": "f328f773-9950-4693-bb1a-b90557ace127",
   "metadata": {},
   "source": [
    "### ***Undoing Changes:***\n",
    "\n",
    "### ***Case1: staged changes***\n",
    "```\n",
    "    ==> git reset <-file name->\n",
    "    ==> git reset\n",
    "```\n",
    "![](GitGitHubDemoImages/UndoingChanges/Image01.png)\n",
    "![](GitGitHubDemoImages/UndoingChanges/Image02.png)\n",
    "![](GitGitHubDemoImages/UndoingChanges/Image03.png)\n",
    "![](GitGitHubDemoImages/UndoingChanges/Image04.png)"
   ]
  },
  {
   "cell_type": "markdown",
   "id": "c3e7962d-393a-4b57-9643-ac75473041cd",
   "metadata": {},
   "source": [
    "### ***case2: commited changes(for one commit)***\n",
    "```\n",
    "    ==> git reset HEAD~1\n",
    "    ==> git log (gives history of git commits)\n",
    "```\n",
    "![](GitGitHubDemoImages/UndoingChanges/Image05.png)\n",
    "![](GitGitHubDemoImages/UndoingChanges/Image06.png)"
   ]
  },
  {
   "cell_type": "markdown",
   "id": "cfcf6420-1ea5-4ee5-875d-2a0afe727552",
   "metadata": {},
   "source": [
    "### ***case3: commited changes(for many commits)***\n",
    "```\n",
    "    ==> git reset <-commit hash->\n",
    "    ==> git reset --hard <-commit hash->\n",
    "```\n",
    "![](GitGitHubDemoImages/UndoingChanges/Image07.png)\n",
    "![](GitGitHubDemoImages/UndoingChanges/Image08.png)\n",
    "![](GitGitHubDemoImages/UndoingChanges/Image09.png)\n",
    "![](GitGitHubDemoImages/UndoingChanges/Image10.png)\n",
    "![](GitGitHubDemoImages/UndoingChanges/Image11.png)"
   ]
  },
  {
   "cell_type": "markdown",
   "id": "fec44736-f036-46cb-8d0e-bd088db7ae3c",
   "metadata": {},
   "source": [
    "----"
   ]
  },
  {
   "cell_type": "markdown",
   "id": "609dce32-73d3-4232-a947-82a861e5e9f1",
   "metadata": {},
   "source": [
    "### ***Fork:***\n",
    "\n",
    "#### - A fork is a new repository that shares code and visibility setting with the original \"upstream\" repository\n",
    "#### - Fork is a rough copy"
   ]
  },
  {
   "cell_type": "markdown",
   "id": "7a13a1a5-113e-4a99-998d-b2671015faf9",
   "metadata": {},
   "source": [
    "![](GitGitHubDemoImages/ForkImages/Image01.png)\n",
    "![](GitGitHubDemoImages/ForkImages/Image02.png)\n",
    "![](GitGitHubDemoImages/ForkImages/Image03.png)\n",
    "![](GitGitHubDemoImages/ForkImages/Image04.png)\n",
    "![](GitGitHubDemoImages/ForkImages/Image05.png)\n",
    "![](GitGitHubDemoImages/ForkImages/Image06.png)"
   ]
  },
  {
   "cell_type": "code",
   "execution_count": null,
   "id": "b9cd3232-0de7-4631-a025-ab65af99b576",
   "metadata": {},
   "outputs": [],
   "source": []
  }
 ],
 "metadata": {
  "kernelspec": {
   "display_name": "Python 3 (ipykernel)",
   "language": "python",
   "name": "python3"
  },
  "language_info": {
   "codemirror_mode": {
    "name": "ipython",
    "version": 3
   },
   "file_extension": ".py",
   "mimetype": "text/x-python",
   "name": "python",
   "nbconvert_exporter": "python",
   "pygments_lexer": "ipython3",
   "version": "3.11.7"
  }
 },
 "nbformat": 4,
 "nbformat_minor": 5
}
