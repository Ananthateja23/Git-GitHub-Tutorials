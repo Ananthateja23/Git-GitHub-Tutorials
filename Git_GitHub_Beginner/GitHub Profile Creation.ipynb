{
 "cells": [
  {
   "cell_type": "markdown",
   "id": "be81949f-dbd2-45db-96d1-41447243e700",
   "metadata": {},
   "source": [
    "#### ****Step to create GitHub Profile:****\n",
    "```\n",
    "1. Go to Official website of GitHub i.e https://github.com\n",
    "```\n",
    "![](GitHubImages/Image01.png)"
   ]
  },
  {
   "cell_type": "markdown",
   "id": "f213215a-c7fe-4d2b-98c7-e242d11b2a80",
   "metadata": {},
   "source": [
    "```\n",
    "2. Fill up the details such as Email, Password and Username then click continue\n",
    "```\n",
    "![](GitHubImages/Image02.png)"
   ]
  },
  {
   "cell_type": "markdown",
   "id": "1287a49d-975b-4937-88ad-8a52868efd8e",
   "metadata": {},
   "source": [
    "```\n",
    "3. Click on visual puzzle then a puzzle will displayed to solve.\n",
    "```\n",
    "![](GitHubImages/Image03.png)"
   ]
  },
  {
   "cell_type": "markdown",
   "id": "7d17396d-16ba-4e3c-92d2-4205c071e5bd",
   "metadata": {},
   "source": [
    "```\n",
    "4. A verification code has sent to registered email address. Enter the verification code and click continue \n",
    "```\n",
    "![](GitHubImages/Image04.png)"
   ]
  },
  {
   "cell_type": "markdown",
   "id": "2a1df802-3e3d-4ac2-be85-4d89b8b33d0e",
   "metadata": {},
   "source": [
    "```\n",
    "5. Enter the details to sigin into your account\n",
    "```\n",
    "![](GitHubImages/Image05.png)"
   ]
  },
  {
   "cell_type": "markdown",
   "id": "2d5c1f30-7db1-4d6d-bb84-edc936734623",
   "metadata": {},
   "source": [
    "```\n",
    "6. A Dashboard will appear on screen. Now click on icon to know about list of other sections\n",
    "```\n",
    "![](GitHubImages/Image06.png)"
   ]
  },
  {
   "cell_type": "markdown",
   "id": "f86f17ba-c5b4-440f-9fa9-d12ee1ed4492",
   "metadata": {},
   "source": [
    "```\n",
    "7. Click on repositories. To see the created repositories\n",
    "```\n",
    "![](GitHubImages/Image07.png)"
   ]
  },
  {
   "cell_type": "markdown",
   "id": "ce0b1725-111b-4d7e-838d-372e30a37ac1",
   "metadata": {},
   "source": [
    "```\n",
    "8. Now there are no repositories present beacause we are opening first time. Click on New to create a new repository\n",
    "```\n",
    "![](GitHubImages/Image08.png)"
   ]
  },
  {
   "cell_type": "markdown",
   "id": "534d6cf2-87d1-482f-84df-6672773c9ad2",
   "metadata": {},
   "source": [
    "```\n",
    "9. Fill up the data in numbered places and click on create repository to create a repository \n",
    "```\n",
    "![](GitHubImages/Image09.png)\n",
    "![](GitHubImages/Image10.png)"
   ]
  },
  {
   "cell_type": "markdown",
   "id": "a5b15ecb-45fc-485b-b210-218a1d0de4f9",
   "metadata": {},
   "source": [
    "```\n",
    "11. After that a new repository with README.md and Initial commit will be created and shown on screen\n",
    "```\n",
    "![](GitHubImages/Image11.png)"
   ]
  },
  {
   "cell_type": "markdown",
   "id": "21b68942-f260-4a27-bae3-b89d76a75d7e",
   "metadata": {},
   "source": [
    "```\n",
    "12. We can write additional information to README.md file by clicking on pen symbol\n",
    "```\n",
    "![](GitHubImages/Image12.png)"
   ]
  },
  {
   "cell_type": "markdown",
   "id": "f65d31c2-c99b-4d59-92d3-c4d022003556",
   "metadata": {},
   "source": [
    "```\n",
    "13. Now write the additional info and click on commit changes button to reflect on README.md file\n",
    "```\n",
    "![](GitHubImages/Image13.png)"
   ]
  },
  {
   "cell_type": "markdown",
   "id": "5ef44226-bc95-40f7-a5bf-7991ad43c57d",
   "metadata": {},
   "source": [
    "```\n",
    "14. To commit the changes on README.md, we have to provide the commit message, commit directly to main branch and hit Commit changes button\n",
    "```\n",
    "![](GitHubImages/Image14.png)"
   ]
  },
  {
   "cell_type": "markdown",
   "id": "cefba3c6-ce73-4c6b-9f07-9ceb608b8d5d",
   "metadata": {},
   "source": [
    "```\n",
    "15. We added the information in new line but appeared as side by side\n",
    "```\n",
    "![](GitHubImages/Image15.png)"
   ]
  },
  {
   "cell_type": "markdown",
   "id": "f7001fae-44ae-4d9e-98ca-5a725f4ebd42",
   "metadata": {},
   "source": [
    "```\n",
    "16. Now we are intrested to write information in new line. so we again starts to click on pen symbol to add info into README.md\n",
    "```\n",
    "![](GitHubImages/Image16.png)"
   ]
  },
  {
   "cell_type": "markdown",
   "id": "cf3a910b-ebfa-4d93-b323-d60c6db9f474",
   "metadata": {},
   "source": [
    "```\n",
    "17. We have to use markdown language or basic html to write content then only it write correctly in README.md file and click Commit changes button\n",
    "```\n",
    "![](GitHubImages/Image17.png)"
   ]
  },
  {
   "cell_type": "markdown",
   "id": "0989ef79-9011-4f54-b73a-9686722a8418",
   "metadata": {},
   "source": [
    "```\n",
    "18. To commit the changes on README.md, we have to provide the commit message, commit directly to main branch and hit Commit changes button\n",
    "```\n",
    "![](GitHubImages/Image18.png)"
   ]
  },
  {
   "cell_type": "markdown",
   "id": "42f98e6b-be6f-4c38-a3e8-5e699f624e59",
   "metadata": {},
   "source": [
    "```\n",
    "19. By using markdown language, We sucessfully wrote content in README.md file within different lines\n",
    "```\n",
    "![](GitHubImages/Image19.png)"
   ]
  },
  {
   "cell_type": "code",
   "execution_count": null,
   "id": "6e261815-e110-4451-8eb3-55eb15203b61",
   "metadata": {},
   "outputs": [],
   "source": []
  }
 ],
 "metadata": {
  "kernelspec": {
   "display_name": "Python 3 (ipykernel)",
   "language": "python",
   "name": "python3"
  },
  "language_info": {
   "codemirror_mode": {
    "name": "ipython",
    "version": 3
   },
   "file_extension": ".py",
   "mimetype": "text/x-python",
   "name": "python",
   "nbconvert_exporter": "python",
   "pygments_lexer": "ipython3",
   "version": "3.11.7"
  }
 },
 "nbformat": 4,
 "nbformat_minor": 5
}
