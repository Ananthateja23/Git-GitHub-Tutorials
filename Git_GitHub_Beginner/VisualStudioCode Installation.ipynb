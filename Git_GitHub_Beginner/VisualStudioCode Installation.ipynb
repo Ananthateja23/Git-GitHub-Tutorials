{
 "cells": [
  {
   "cell_type": "markdown",
   "id": "a83bb76d-abb8-4235-bb51-ada757b289a8",
   "metadata": {},
   "source": [
    "### ****Steps to install VisualStudioCode:****\n",
    "```\n",
    "1. Open any browser and search for visual studio code. Click on first appeared search result i.e https://code.visualstudio.com\n",
    "```\n",
    "![](VsCodeImages/Image01.png)"
   ]
  },
  {
   "cell_type": "markdown",
   "id": "c5b29d7d-d67d-48c0-84a3-84b9c9644c09",
   "metadata": {},
   "source": [
    "```\n",
    "2. Click on download button to go into download page\n",
    "```\n",
    "![](VsCodeImages/Image02.png)"
   ]
  },
  {
   "cell_type": "markdown",
   "id": "32350c98-e46b-4c88-9ec6-e0b662b47186",
   "metadata": {},
   "source": [
    "```\n",
    "3. Choose the download type based on the operating system and corresponding bit either 32bit or 64bit\n",
    "```\n",
    "![](VsCodeImages/Image03.png)"
   ]
  },
  {
   "cell_type": "markdown",
   "id": "7ba47064-2ae5-4b01-afeb-e76abf8f5077",
   "metadata": {},
   "source": [
    "```\n",
    "4. Once download has started the following page will appear\n",
    "```\n",
    "![](VsCodeImages/Image04.png)"
   ]
  },
  {
   "cell_type": "markdown",
   "id": "4b207622-11fd-48d3-a1ea-3bef8bbd9ef9",
   "metadata": {},
   "source": [
    "```\n",
    "5. After completion of download give double click on .exe file. Now a window will appaear and ask 'yes' or 'no' for installation then give acknowledge of acceptance of agreement\n",
    "```\n",
    "![](VsCodeImages/Image05.png)"
   ]
  },
  {
   "cell_type": "markdown",
   "id": "d3532c41-c013-4cd6-afd2-167174e1c2c2",
   "metadata": {},
   "source": [
    "```\n",
    "6. Give default select destination location and click next\n",
    "```\n",
    "![](VsCodeImages/Image06.png)"
   ]
  },
  {
   "cell_type": "markdown",
   "id": "8ca2f989-d684-492a-a923-c5d736962cd8",
   "metadata": {},
   "source": [
    "```\n",
    "7. Give default select start menu folder and click next\n",
    "```\n",
    "![](VsCodeImages/Image07.png)"
   ]
  },
  {
   "cell_type": "markdown",
   "id": "ab5cabf3-4152-4433-9e0e-cfec16d03aae",
   "metadata": {},
   "source": [
    "```\n",
    "8. Give checklist to all the Select additional tasks and click next\n",
    "```\n",
    "![](VsCodeImages/Image08.png)"
   ]
  },
  {
   "cell_type": "markdown",
   "id": "c1ce4ade-eb5d-49d6-8720-21bd0426818a",
   "metadata": {},
   "source": [
    "```\n",
    "9. Click on Install to start the Installation process\n",
    "```\n",
    "![](VsCodeImages/Image09.png)"
   ]
  },
  {
   "cell_type": "markdown",
   "id": "324fd480-dd56-45fe-b2bb-de5127e0c08c",
   "metadata": {},
   "source": [
    "```\n",
    "10. After completion of Installation a completing setup wizard will appear and click finish. Now VisualStudioCode is available ready to work\n",
    "```\n",
    "![](VsCodeImages/Image10.png)"
   ]
  },
  {
   "cell_type": "code",
   "execution_count": null,
   "id": "d7b95d75-350f-42e2-9181-f74c98e51fe4",
   "metadata": {},
   "outputs": [],
   "source": []
  }
 ],
 "metadata": {
  "kernelspec": {
   "display_name": "Python 3 (ipykernel)",
   "language": "python",
   "name": "python3"
  },
  "language_info": {
   "codemirror_mode": {
    "name": "ipython",
    "version": 3
   },
   "file_extension": ".py",
   "mimetype": "text/x-python",
   "name": "python",
   "nbconvert_exporter": "python",
   "pygments_lexer": "ipython3",
   "version": "3.11.7"
  }
 },
 "nbformat": 4,
 "nbformat_minor": 5
}
