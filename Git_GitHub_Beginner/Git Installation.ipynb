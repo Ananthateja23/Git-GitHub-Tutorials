{
 "cells": [
  {
   "cell_type": "markdown",
   "id": "94331e06-3209-439e-97fd-8055ae6eea01",
   "metadata": {},
   "source": [
    "### ****Steps to Install Git:****\n",
    "```\n",
    "1. Open any browser and search git-scm. Click on first appeared link i.e https://git-scm.com\n",
    "```\n",
    "![](GitBashImages/Image01.png)"
   ]
  },
  {
   "cell_type": "markdown",
   "id": "0093460b-14f9-4a7c-8416-f0f868cb64e6",
   "metadata": {},
   "source": [
    "```\n",
    "2. Click on Download for windows to go into download page\n",
    "```\n",
    "![](GitBashImages/Image02.png)"
   ]
  },
  {
   "cell_type": "markdown",
   "id": "da6ab37b-5d04-42bd-8202-bfb03c4c2957",
   "metadata": {},
   "source": [
    "```\n",
    "3. Choose 64-bit Git for windows setup and click once to start the download\n",
    "```\n",
    "![](GitBashImages/Image03.png)"
   ]
  },
  {
   "cell_type": "markdown",
   "id": "6545d2f5-9b28-4c75-836a-faf411f1a62b",
   "metadata": {},
   "source": [
    "```\n",
    "4. After file gets downloaded give double click on file to start the installation process. A wizard will appear and ask 'yes' or 'no' for installation and give yes. After that Information wizard appaear and click next\n",
    "```\n",
    "![](GitBashImages/Image04.png)"
   ]
  },
  {
   "cell_type": "markdown",
   "id": "0fc29dd4-64f7-4847-877b-911b194cf0e8",
   "metadata": {},
   "source": [
    "```\n",
    "5. Give default path select destination location and click next\n",
    "```\n",
    "![](GitBashImages/Image05.png)"
   ]
  },
  {
   "cell_type": "markdown",
   "id": "dd8df686-57e0-42d8-b643-4ec0536f46b8",
   "metadata": {},
   "source": [
    "```\n",
    "6. Select checklist of \"on the desktop\" and click next\n",
    "```\n",
    "![](GitBashImages/Image06.png)"
   ]
  },
  {
   "cell_type": "markdown",
   "id": "072adce0-9497-48b0-bb92-18dc4b762e32",
   "metadata": {},
   "source": [
    "```\n",
    "7. Give default name select start menu folder and click next\n",
    "```\n",
    "![](GitBashImages/Image07.png)"
   ]
  },
  {
   "cell_type": "markdown",
   "id": "e18303d5-fa1c-49d5-839c-931f98a23d70",
   "metadata": {},
   "source": [
    "```\n",
    "8. Give default editor for choosing the default editor used by Git and click next\n",
    "```\n",
    "![](GitBashImages/Image08.png)"
   ]
  },
  {
   "cell_type": "markdown",
   "id": "934ba452-ae07-46a6-9257-a3dcb4b44b28",
   "metadata": {},
   "source": [
    "```\n",
    "9. Select \"Override the default branch name for new repositories\" and click next\n",
    "```\n",
    "![](GitBashImages/Image09.png)"
   ]
  },
  {
   "cell_type": "markdown",
   "id": "2b6afef6-4e17-4a46-b393-00875b7f7ce7",
   "metadata": {},
   "source": [
    "```\n",
    "10. Give default option of adjusting your path environment and click next\n",
    "```\n",
    "![](GitBashImages/Image10.png)"
   ]
  },
  {
   "cell_type": "markdown",
   "id": "e6a279a2-4c06-4578-b3d5-27e82ab2f66d",
   "metadata": {},
   "source": [
    "```\n",
    "11. Give default option for choosing the SSH executable and click next\n",
    "```\n",
    "![](GitBashImages/Image11.png)"
   ]
  },
  {
   "cell_type": "markdown",
   "id": "d75fe946-447d-4b31-a6a7-2cf825495dba",
   "metadata": {},
   "source": [
    "```\n",
    "12. Give default option for choosing HTTPS transport backend and click next\n",
    "```\n",
    "![](GitBashImages/Image12.png)"
   ]
  },
  {
   "cell_type": "markdown",
   "id": "5e1bc0ef-4ca2-43d7-8494-7585970afe33",
   "metadata": {},
   "source": [
    "```\n",
    "13. Give default option for choosing the line ending conversions and click next\n",
    "```\n",
    "![](GitBashImages/Image13.png)"
   ]
  },
  {
   "cell_type": "markdown",
   "id": "1886d71a-76d3-4c96-8070-ba19e492f1d9",
   "metadata": {},
   "source": [
    "```\n",
    "14. Give default option for choosing the terminal emulator to use with Git Bash and click next\n",
    "```\n",
    "![](GitBashImages/Image14.png)"
   ]
  },
  {
   "cell_type": "markdown",
   "id": "42a89379-bf03-4fed-8cbe-7e76cb24419b",
   "metadata": {},
   "source": [
    "```\n",
    "15. Give default option for choosing the default behavior of 'git pull' and click next\n",
    "```\n",
    "![](GitBashImages/Image15.png)"
   ]
  },
  {
   "cell_type": "markdown",
   "id": "271bbf48-11c5-4bb0-b75b-241b06c596d0",
   "metadata": {},
   "source": [
    "```\n",
    "16. Give default option for choose a credential helper and click next\n",
    "```\n",
    "![](GitBashImages/Image16.png)"
   ]
  },
  {
   "cell_type": "markdown",
   "id": "157a7031-f4a3-4c6b-aa86-15116b770fac",
   "metadata": {},
   "source": [
    "```\n",
    "17. Give default option for configuring extra options and click Install\n",
    "```\n",
    "![](GitBashImages/Image17.png)"
   ]
  },
  {
   "cell_type": "markdown",
   "id": "216d4099-6bf8-4d60-8099-89e636b43343",
   "metadata": {},
   "source": [
    "```\n",
    "18. Once Installation has done complete Git setup wizard window will appear. Now Git is available for ready to work\n",
    "```\n",
    "![](GitBashImages/Image18.png)"
   ]
  },
  {
   "cell_type": "code",
   "execution_count": null,
   "id": "8fa76a05-8eca-4e30-a5f4-277bf7979d3c",
   "metadata": {},
   "outputs": [],
   "source": []
  }
 ],
 "metadata": {
  "kernelspec": {
   "display_name": "Python 3 (ipykernel)",
   "language": "python",
   "name": "python3"
  },
  "language_info": {
   "codemirror_mode": {
    "name": "ipython",
    "version": 3
   },
   "file_extension": ".py",
   "mimetype": "text/x-python",
   "name": "python",
   "nbconvert_exporter": "python",
   "pygments_lexer": "ipython3",
   "version": "3.11.7"
  }
 },
 "nbformat": 4,
 "nbformat_minor": 5
}
